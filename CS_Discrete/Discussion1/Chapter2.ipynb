{
 "cells": [
  {
   "cell_type": "code",
   "execution_count": 43,
   "id": "b4aa9999",
   "metadata": {},
   "outputs": [],
   "source": [
    "import itertools\n",
    "import inspect"
   ]
  },
  {
   "cell_type": "code",
   "execution_count": 44,
   "id": "8c709b17",
   "metadata": {},
   "outputs": [],
   "source": [
    "def nparams(f):\n",
    "    return len(inspect.signature(f).parameters)"
   ]
  },
  {
   "cell_type": "code",
   "execution_count": 45,
   "id": "7aec0d0e",
   "metadata": {},
   "outputs": [],
   "source": [
    "def TruthTable(f):\n",
    "    \n",
    "    n=nparams(f)\n",
    "    c_names = inspect.getfullargspec(f)\n",
    "    for j in range(n):      # Column Labels\n",
    "        print(\" {0:6s}\".format(c_names.args[j]), end=\"\")\n",
    "    \n",
    "    print(\"| Result\\n\" + 6*n*\"-\"+\"------\")\n",
    "              \n",
    "    alltuples = itertools.product([True,False],repeat=n)\n",
    "              \n",
    "    for combination in alltuples:\n",
    "              for value in combination:\n",
    "                  if value:\n",
    "                        print(\" {0:6s}\".format(\"T\"), end=\"\")\n",
    "                  else:\n",
    "                        print(\" {0:6s}\".format(\"F\"), end=\"\")\n",
    "              result = f(*combination)\n",
    "              if result:\n",
    "                    print(\"| {0:6s}\".format(\"T\"))\n",
    "              else:\n",
    "                    print(\"| {0:6s}\".format(\"F\"))\n",
    "             "
   ]
  },
  {
   "cell_type": "markdown",
   "id": "a6916c01",
   "metadata": {},
   "source": [
    "# Question 1"
   ]
  },
  {
   "cell_type": "code",
   "execution_count": 46,
   "id": "c12d0dc2",
   "metadata": {},
   "outputs": [],
   "source": [
    "def TruthTableResult(f):\n",
    "    result = []\n",
    "    for combination in itertools.product([True,False],\\\n",
    "            repeat = len(inspect.signature(f).parameters)):\n",
    "                result.append(f(*combination))\n",
    "    return result\n",
    "\n",
    "def equiv(f, g):\n",
    "    return(TruthTableResult(f) == TruthTableResult(g))\n"
   ]
  },
  {
   "cell_type": "code",
   "execution_count": 47,
   "id": "4de80973",
   "metadata": {},
   "outputs": [
    {
     "name": "stdout",
     "output_type": "stream",
     "text": [
      "True\n"
     ]
    }
   ],
   "source": [
    "AxorB = [False, True, True, False]\n",
    "\n",
    "def f(A,B):\n",
    "    return((A or B) and not(A and B))\n",
    "\n",
    "print(TruthTableResult(f) == AxorB)"
   ]
  },
  {
   "cell_type": "markdown",
   "id": "65ca7a57",
   "metadata": {},
   "source": [
    "# Question 2"
   ]
  },
  {
   "cell_type": "code",
   "execution_count": 48,
   "id": "ff4a65a2",
   "metadata": {},
   "outputs": [
    {
     "name": "stdout",
     "output_type": "stream",
     "text": [
      " p      q     | Result\n",
      "------------------\n",
      " T      T     | F     \n",
      " T      F     | F     \n",
      " F      T     | F     \n",
      " F      F     | T     \n",
      " p      q     | Result\n",
      "------------------\n",
      " T      T     | F     \n",
      " T      F     | F     \n",
      " F      T     | F     \n",
      " F      F     | T     \n"
     ]
    },
    {
     "data": {
      "text/plain": [
       "True"
      ]
     },
     "execution_count": 48,
     "metadata": {},
     "output_type": "execute_result"
    }
   ],
   "source": [
    "def f(p, q):\n",
    "    return(not (p or q))\n",
    "def g(p, q):\n",
    "    return((not p and not q))\n",
    "\n",
    "TruthTable(f)\n",
    "TruthTable(g)\n",
    "\n",
    "equiv(f, g)"
   ]
  },
  {
   "cell_type": "markdown",
   "id": "63fad3e8",
   "metadata": {},
   "source": [
    "# Question 3"
   ]
  },
  {
   "cell_type": "code",
   "execution_count": 49,
   "id": "c0dfbf92",
   "metadata": {},
   "outputs": [
    {
     "name": "stdout",
     "output_type": "stream",
     "text": [
      " A      B     | Result\n",
      "------------------\n",
      " T      T     | T     \n",
      " T      F     | F     \n",
      " F      T     | F     \n",
      " F      F     | F     \n",
      " A      B     | Result\n",
      "------------------\n",
      " T      T     | T     \n",
      " T      F     | F     \n",
      " F      T     | F     \n",
      " F      F     | F     \n"
     ]
    },
    {
     "data": {
      "text/plain": [
       "True"
      ]
     },
     "execution_count": 49,
     "metadata": {},
     "output_type": "execute_result"
    }
   ],
   "source": [
    "def f(A, B):\n",
    "    return(A and B)\n",
    "def g(A, B):\n",
    "    return(B and A)\n",
    "\n",
    "TruthTable(f)\n",
    "TruthTable(g)\n",
    "\n",
    "equiv(f, g)"
   ]
  },
  {
   "cell_type": "code",
   "execution_count": 50,
   "id": "f77c903b",
   "metadata": {},
   "outputs": [
    {
     "name": "stdout",
     "output_type": "stream",
     "text": [
      " A      B     | Result\n",
      "------------------\n",
      " T      T     | T     \n",
      " T      F     | T     \n",
      " F      T     | T     \n",
      " F      F     | F     \n",
      " A      B     | Result\n",
      "------------------\n",
      " T      T     | T     \n",
      " T      F     | T     \n",
      " F      T     | T     \n",
      " F      F     | F     \n"
     ]
    },
    {
     "data": {
      "text/plain": [
       "True"
      ]
     },
     "execution_count": 50,
     "metadata": {},
     "output_type": "execute_result"
    }
   ],
   "source": [
    "def f(A, B):\n",
    "    return(A or B)\n",
    "def g(A, B):\n",
    "    return(B or A)\n",
    "\n",
    "TruthTable(f)\n",
    "TruthTable(g)\n",
    "\n",
    "equiv(f, g)"
   ]
  },
  {
   "cell_type": "markdown",
   "id": "36bd3e35",
   "metadata": {},
   "source": [
    "# Question 4"
   ]
  },
  {
   "cell_type": "code",
   "execution_count": 51,
   "id": "398cf2ef",
   "metadata": {},
   "outputs": [
    {
     "name": "stdout",
     "output_type": "stream",
     "text": [
      " A      B      C     | Result\n",
      "------------------------\n",
      " T      T      T     | T     \n",
      " T      T      F     | T     \n",
      " T      F      T     | T     \n",
      " T      F      F     | T     \n",
      " F      T      T     | T     \n",
      " F      T      F     | T     \n",
      " F      F      T     | T     \n",
      " F      F      F     | F     \n",
      " A      B      C     | Result\n",
      "------------------------\n",
      " T      T      T     | T     \n",
      " T      T      F     | T     \n",
      " T      F      T     | T     \n",
      " T      F      F     | T     \n",
      " F      T      T     | T     \n",
      " F      T      F     | T     \n",
      " F      F      T     | T     \n",
      " F      F      F     | F     \n"
     ]
    },
    {
     "data": {
      "text/plain": [
       "True"
      ]
     },
     "execution_count": 51,
     "metadata": {},
     "output_type": "execute_result"
    }
   ],
   "source": [
    "def f(A, B, C):\n",
    "    return ((A or B) or C)\n",
    "\n",
    "def g(A, B, C):\n",
    "    return (A or (B or C))\n",
    "\n",
    "TruthTable(f)\n",
    "TruthTable(g)\n",
    "\n",
    "equiv(f, g)"
   ]
  },
  {
   "cell_type": "code",
   "execution_count": 52,
   "id": "d3119af1",
   "metadata": {},
   "outputs": [
    {
     "name": "stdout",
     "output_type": "stream",
     "text": [
      " A      B      C     | Result\n",
      "------------------------\n",
      " T      T      T     | T     \n",
      " T      T      F     | F     \n",
      " T      F      T     | F     \n",
      " T      F      F     | F     \n",
      " F      T      T     | F     \n",
      " F      T      F     | F     \n",
      " F      F      T     | F     \n",
      " F      F      F     | F     \n",
      " A      B      C     | Result\n",
      "------------------------\n",
      " T      T      T     | T     \n",
      " T      T      F     | F     \n",
      " T      F      T     | F     \n",
      " T      F      F     | F     \n",
      " F      T      T     | F     \n",
      " F      T      F     | F     \n",
      " F      F      T     | F     \n",
      " F      F      F     | F     \n"
     ]
    },
    {
     "data": {
      "text/plain": [
       "True"
      ]
     },
     "execution_count": 52,
     "metadata": {},
     "output_type": "execute_result"
    }
   ],
   "source": [
    "def f(A, B, C):\n",
    "    return ((A and B) and C)\n",
    "\n",
    "def g(A, B, C):\n",
    "    return (A and (B and C))\n",
    "\n",
    "TruthTable(f)\n",
    "TruthTable(g)\n",
    "\n",
    "equiv(f, g)"
   ]
  },
  {
   "cell_type": "markdown",
   "id": "b8b42e0f",
   "metadata": {},
   "source": [
    "# Question 5"
   ]
  },
  {
   "cell_type": "code",
   "execution_count": 53,
   "id": "94c6a0d7",
   "metadata": {},
   "outputs": [
    {
     "name": "stdout",
     "output_type": "stream",
     "text": [
      " A      B      C     | Result\n",
      "------------------------\n",
      " T      T      T     | T     \n",
      " T      T      F     | T     \n",
      " T      F      T     | T     \n",
      " T      F      F     | T     \n",
      " F      T      T     | T     \n",
      " F      T      F     | F     \n",
      " F      F      T     | F     \n",
      " F      F      F     | F     \n",
      " A      B      C     | Result\n",
      "------------------------\n",
      " T      T      T     | T     \n",
      " T      T      F     | T     \n",
      " T      F      T     | T     \n",
      " T      F      F     | T     \n",
      " F      T      T     | T     \n",
      " F      T      F     | F     \n",
      " F      F      T     | F     \n",
      " F      F      F     | F     \n"
     ]
    },
    {
     "data": {
      "text/plain": [
       "True"
      ]
     },
     "execution_count": 53,
     "metadata": {},
     "output_type": "execute_result"
    }
   ],
   "source": [
    "def f(A, B, C):\n",
    "    return(A or (B and C))\n",
    "def g(A, B, C):\n",
    "    return((A or B) and (A or C))\n",
    "\n",
    "TruthTable(f)\n",
    "TruthTable(g)\n",
    "\n",
    "equiv(f, g)"
   ]
  },
  {
   "cell_type": "code",
   "execution_count": 54,
   "id": "39f22cf0",
   "metadata": {},
   "outputs": [
    {
     "name": "stdout",
     "output_type": "stream",
     "text": [
      " A      B      C     | Result\n",
      "------------------------\n",
      " T      T      T     | T     \n",
      " T      T      F     | T     \n",
      " T      F      T     | T     \n",
      " T      F      F     | F     \n",
      " F      T      T     | F     \n",
      " F      T      F     | F     \n",
      " F      F      T     | F     \n",
      " F      F      F     | F     \n",
      " A      B      C     | Result\n",
      "------------------------\n",
      " T      T      T     | T     \n",
      " T      T      F     | T     \n",
      " T      F      T     | T     \n",
      " T      F      F     | F     \n",
      " F      T      T     | F     \n",
      " F      T      F     | F     \n",
      " F      F      T     | F     \n",
      " F      F      F     | F     \n"
     ]
    },
    {
     "data": {
      "text/plain": [
       "True"
      ]
     },
     "execution_count": 54,
     "metadata": {},
     "output_type": "execute_result"
    }
   ],
   "source": [
    "def f(A, B, C):\n",
    "    return(A and (B or C))\n",
    "def g(A, B, C):\n",
    "    return((A and B) or (A and C))\n",
    "\n",
    "TruthTable(f)\n",
    "TruthTable(g)\n",
    "\n",
    "equiv(f, g)"
   ]
  },
  {
   "cell_type": "markdown",
   "id": "771da901",
   "metadata": {},
   "source": [
    "# Question 6"
   ]
  },
  {
   "cell_type": "code",
   "execution_count": 55,
   "id": "ee40bdf7",
   "metadata": {},
   "outputs": [
    {
     "name": "stdout",
     "output_type": "stream",
     "text": [
      " A      B     | Result\n",
      "------------------\n",
      " T      T     | T     \n",
      " T      F     | T     \n",
      " F      T     | F     \n",
      " F      F     | F     \n",
      " A      B     | Result\n",
      "------------------\n",
      " T      T     | T     \n",
      " T      F     | T     \n",
      " F      T     | F     \n",
      " F      F     | F     \n"
     ]
    },
    {
     "data": {
      "text/plain": [
       "True"
      ]
     },
     "execution_count": 55,
     "metadata": {},
     "output_type": "execute_result"
    }
   ],
   "source": [
    "def f(A, B):\n",
    "    return(A or (A and B))\n",
    "def g(A, B):\n",
    "    return(A)\n",
    "\n",
    "TruthTable(f)\n",
    "TruthTable(g)\n",
    "\n",
    "equiv(f, g)"
   ]
  },
  {
   "cell_type": "code",
   "execution_count": 56,
   "id": "409f6a7f",
   "metadata": {},
   "outputs": [
    {
     "name": "stdout",
     "output_type": "stream",
     "text": [
      " A      B     | Result\n",
      "------------------\n",
      " T      T     | T     \n",
      " T      F     | T     \n",
      " F      T     | F     \n",
      " F      F     | F     \n",
      " A      B     | Result\n",
      "------------------\n",
      " T      T     | T     \n",
      " T      F     | T     \n",
      " F      T     | F     \n",
      " F      F     | F     \n"
     ]
    },
    {
     "data": {
      "text/plain": [
       "True"
      ]
     },
     "execution_count": 56,
     "metadata": {},
     "output_type": "execute_result"
    }
   ],
   "source": [
    "def f(A, B):\n",
    "    return(A and (A or B))\n",
    "def g(A, B):\n",
    "    return(A)\n",
    "\n",
    "TruthTable(f)\n",
    "TruthTable(g)\n",
    "\n",
    "equiv(f, g)"
   ]
  },
  {
   "cell_type": "markdown",
   "id": "e0fd45cb",
   "metadata": {},
   "source": [
    "# Question 7\n",
    "\n",
    "### Identities"
   ]
  },
  {
   "cell_type": "code",
   "execution_count": 57,
   "id": "e2af4cb9",
   "metadata": {},
   "outputs": [
    {
     "data": {
      "text/plain": [
       "True"
      ]
     },
     "execution_count": 57,
     "metadata": {},
     "output_type": "execute_result"
    }
   ],
   "source": [
    "def f(A):\n",
    "    return(A and True)\n",
    "def g(A):\n",
    "    return(A)\n",
    "\n",
    "equiv(f, g)"
   ]
  },
  {
   "cell_type": "code",
   "execution_count": 58,
   "id": "bf9d4a05",
   "metadata": {},
   "outputs": [
    {
     "data": {
      "text/plain": [
       "True"
      ]
     },
     "execution_count": 58,
     "metadata": {},
     "output_type": "execute_result"
    }
   ],
   "source": [
    "def f(A):\n",
    "    return(A or False)\n",
    "def g(A):\n",
    "    return(A)\n",
    "\n",
    "equiv(f, g)"
   ]
  },
  {
   "cell_type": "markdown",
   "id": "50009512",
   "metadata": {},
   "source": [
    "### Domination"
   ]
  },
  {
   "cell_type": "code",
   "execution_count": 59,
   "id": "fd75ff74",
   "metadata": {},
   "outputs": [
    {
     "data": {
      "text/plain": [
       "True"
      ]
     },
     "execution_count": 59,
     "metadata": {},
     "output_type": "execute_result"
    }
   ],
   "source": [
    "def f(A):\n",
    "    return(A or True)\n",
    "def g(A):\n",
    "    return(True)\n",
    "\n",
    "equiv(f, g)"
   ]
  },
  {
   "cell_type": "code",
   "execution_count": 60,
   "id": "202c98e9",
   "metadata": {},
   "outputs": [
    {
     "data": {
      "text/plain": [
       "True"
      ]
     },
     "execution_count": 60,
     "metadata": {},
     "output_type": "execute_result"
    }
   ],
   "source": [
    "def f(A):\n",
    "    return(A and False)\n",
    "def g(A):\n",
    "    return(False)\n",
    "\n",
    "equiv(f, g)"
   ]
  },
  {
   "cell_type": "markdown",
   "id": "f1cf5a08",
   "metadata": {},
   "source": [
    "### Idempotent"
   ]
  },
  {
   "cell_type": "code",
   "execution_count": 61,
   "id": "71d09f3f",
   "metadata": {},
   "outputs": [
    {
     "data": {
      "text/plain": [
       "True"
      ]
     },
     "execution_count": 61,
     "metadata": {},
     "output_type": "execute_result"
    }
   ],
   "source": [
    "def f(A):\n",
    "    return(A or A)\n",
    "def g(A):\n",
    "    return(A)\n",
    "\n",
    "equiv(f, g)"
   ]
  },
  {
   "cell_type": "code",
   "execution_count": 62,
   "id": "9bbcdbd2",
   "metadata": {},
   "outputs": [
    {
     "data": {
      "text/plain": [
       "True"
      ]
     },
     "execution_count": 62,
     "metadata": {},
     "output_type": "execute_result"
    }
   ],
   "source": [
    "def f(A):\n",
    "    return(A and A)\n",
    "def g(A):\n",
    "    return(A)\n",
    "\n",
    "equiv(f, g)"
   ]
  },
  {
   "cell_type": "markdown",
   "id": "17f418d5",
   "metadata": {},
   "source": [
    "### Double Negation"
   ]
  },
  {
   "cell_type": "code",
   "execution_count": 63,
   "id": "8497ec84",
   "metadata": {},
   "outputs": [
    {
     "data": {
      "text/plain": [
       "True"
      ]
     },
     "execution_count": 63,
     "metadata": {},
     "output_type": "execute_result"
    }
   ],
   "source": [
    "def f(A):\n",
    "    return(not (not A))\n",
    "def g(A):\n",
    "    return(A)\n",
    "\n",
    "equiv(f, g)"
   ]
  },
  {
   "cell_type": "markdown",
   "id": "3759554a",
   "metadata": {},
   "source": [
    "All other logical equivilancies were tested in the previous problems. "
   ]
  }
 ],
 "metadata": {
  "kernelspec": {
   "display_name": "Python 3 (ipykernel)",
   "language": "python",
   "name": "python3"
  },
  "language_info": {
   "codemirror_mode": {
    "name": "ipython",
    "version": 3
   },
   "file_extension": ".py",
   "mimetype": "text/x-python",
   "name": "python",
   "nbconvert_exporter": "python",
   "pygments_lexer": "ipython3",
   "version": "3.9.7"
  }
 },
 "nbformat": 4,
 "nbformat_minor": 5
}
