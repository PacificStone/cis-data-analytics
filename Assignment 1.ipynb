{
 "cells": [
  {
   "cell_type": "code",
   "execution_count": 63,
   "id": "01f7e31d",
   "metadata": {},
   "outputs": [],
   "source": [
    "import pandas as pd"
   ]
  },
  {
   "cell_type": "code",
   "execution_count": 64,
   "id": "d5ebbc41",
   "metadata": {},
   "outputs": [],
   "source": [
    "staff = ({\"Name\": [\"Rita\", \"Natalie\", \"Prasann\", \"Ashwin\", \"Haru\", \"Wendy\", \"Jackie\", \"Vivrd\", \"Olivia\", \"Vishnu\",\n",
    "                    \"Peter\", \"Kyle\", \"Jessie\", \"Oscar\", \"Yanay\", \"Eddie\", \"Katherine\", \"Mei\", \"Rohan\",\"Noah\",\n",
    "                    \"Sarah\", \"Grace\", \"Ellen\"], \n",
    "           \"Year\": [4, 4, 3, 2, 3, 3, 4, 2, 4, 4, 2, 3, 4, 3, 4, 3, 4, 3, 3, 2, 3, 4, 4],\n",
    "          \"Semesters on staff\": [7, 7, 3, 3, 3, 3, 7, 3, 4, 3, 2, 3, 5, 3, 9, 4, 10, 2, 2, 2, 2, 3, 5]})\n"
   ]
  },
  {
   "cell_type": "code",
   "execution_count": 65,
   "id": "bc6c7582",
   "metadata": {},
   "outputs": [
    {
     "data": {
      "text/html": [
       "<style type=\"text/css\">\n",
       "</style>\n",
       "<table id=\"T_23a47_\">\n",
       "  <thead>\n",
       "    <tr>\n",
       "      <th class=\"col_heading level0 col0\" >Name</th>\n",
       "      <th class=\"col_heading level0 col1\" >Year</th>\n",
       "      <th class=\"col_heading level0 col2\" >Semesters on staff</th>\n",
       "    </tr>\n",
       "  </thead>\n",
       "  <tbody>\n",
       "    <tr>\n",
       "      <td id=\"T_23a47_row0_col0\" class=\"data row0 col0\" >Rita</td>\n",
       "      <td id=\"T_23a47_row0_col1\" class=\"data row0 col1\" >4</td>\n",
       "      <td id=\"T_23a47_row0_col2\" class=\"data row0 col2\" >7</td>\n",
       "    </tr>\n",
       "    <tr>\n",
       "      <td id=\"T_23a47_row1_col0\" class=\"data row1 col0\" >Natalie</td>\n",
       "      <td id=\"T_23a47_row1_col1\" class=\"data row1 col1\" >4</td>\n",
       "      <td id=\"T_23a47_row1_col2\" class=\"data row1 col2\" >7</td>\n",
       "    </tr>\n",
       "    <tr>\n",
       "      <td id=\"T_23a47_row2_col0\" class=\"data row2 col0\" >Prasann</td>\n",
       "      <td id=\"T_23a47_row2_col1\" class=\"data row2 col1\" >3</td>\n",
       "      <td id=\"T_23a47_row2_col2\" class=\"data row2 col2\" >3</td>\n",
       "    </tr>\n",
       "    <tr>\n",
       "      <td id=\"T_23a47_row3_col0\" class=\"data row3 col0\" >Ashwin</td>\n",
       "      <td id=\"T_23a47_row3_col1\" class=\"data row3 col1\" >2</td>\n",
       "      <td id=\"T_23a47_row3_col2\" class=\"data row3 col2\" >3</td>\n",
       "    </tr>\n",
       "    <tr>\n",
       "      <td id=\"T_23a47_row4_col0\" class=\"data row4 col0\" >Haru</td>\n",
       "      <td id=\"T_23a47_row4_col1\" class=\"data row4 col1\" >3</td>\n",
       "      <td id=\"T_23a47_row4_col2\" class=\"data row4 col2\" >3</td>\n",
       "    </tr>\n",
       "    <tr>\n",
       "      <td id=\"T_23a47_row5_col0\" class=\"data row5 col0\" >Wendy</td>\n",
       "      <td id=\"T_23a47_row5_col1\" class=\"data row5 col1\" >3</td>\n",
       "      <td id=\"T_23a47_row5_col2\" class=\"data row5 col2\" >3</td>\n",
       "    </tr>\n",
       "    <tr>\n",
       "      <td id=\"T_23a47_row6_col0\" class=\"data row6 col0\" >Jackie</td>\n",
       "      <td id=\"T_23a47_row6_col1\" class=\"data row6 col1\" >4</td>\n",
       "      <td id=\"T_23a47_row6_col2\" class=\"data row6 col2\" >7</td>\n",
       "    </tr>\n",
       "    <tr>\n",
       "      <td id=\"T_23a47_row7_col0\" class=\"data row7 col0\" >Vivrd</td>\n",
       "      <td id=\"T_23a47_row7_col1\" class=\"data row7 col1\" >2</td>\n",
       "      <td id=\"T_23a47_row7_col2\" class=\"data row7 col2\" >3</td>\n",
       "    </tr>\n",
       "    <tr>\n",
       "      <td id=\"T_23a47_row8_col0\" class=\"data row8 col0\" >Olivia</td>\n",
       "      <td id=\"T_23a47_row8_col1\" class=\"data row8 col1\" >4</td>\n",
       "      <td id=\"T_23a47_row8_col2\" class=\"data row8 col2\" >4</td>\n",
       "    </tr>\n",
       "    <tr>\n",
       "      <td id=\"T_23a47_row9_col0\" class=\"data row9 col0\" >Vishnu</td>\n",
       "      <td id=\"T_23a47_row9_col1\" class=\"data row9 col1\" >4</td>\n",
       "      <td id=\"T_23a47_row9_col2\" class=\"data row9 col2\" >3</td>\n",
       "    </tr>\n",
       "    <tr>\n",
       "      <td id=\"T_23a47_row10_col0\" class=\"data row10 col0\" >Peter</td>\n",
       "      <td id=\"T_23a47_row10_col1\" class=\"data row10 col1\" >2</td>\n",
       "      <td id=\"T_23a47_row10_col2\" class=\"data row10 col2\" >2</td>\n",
       "    </tr>\n",
       "    <tr>\n",
       "      <td id=\"T_23a47_row11_col0\" class=\"data row11 col0\" >Kyle</td>\n",
       "      <td id=\"T_23a47_row11_col1\" class=\"data row11 col1\" >3</td>\n",
       "      <td id=\"T_23a47_row11_col2\" class=\"data row11 col2\" >3</td>\n",
       "    </tr>\n",
       "    <tr>\n",
       "      <td id=\"T_23a47_row12_col0\" class=\"data row12 col0\" >Jessie</td>\n",
       "      <td id=\"T_23a47_row12_col1\" class=\"data row12 col1\" >4</td>\n",
       "      <td id=\"T_23a47_row12_col2\" class=\"data row12 col2\" >5</td>\n",
       "    </tr>\n",
       "    <tr>\n",
       "      <td id=\"T_23a47_row13_col0\" class=\"data row13 col0\" >Oscar</td>\n",
       "      <td id=\"T_23a47_row13_col1\" class=\"data row13 col1\" >3</td>\n",
       "      <td id=\"T_23a47_row13_col2\" class=\"data row13 col2\" >3</td>\n",
       "    </tr>\n",
       "    <tr>\n",
       "      <td id=\"T_23a47_row14_col0\" class=\"data row14 col0\" >Yanay</td>\n",
       "      <td id=\"T_23a47_row14_col1\" class=\"data row14 col1\" >4</td>\n",
       "      <td id=\"T_23a47_row14_col2\" class=\"data row14 col2\" >9</td>\n",
       "    </tr>\n",
       "    <tr>\n",
       "      <td id=\"T_23a47_row15_col0\" class=\"data row15 col0\" >Eddie</td>\n",
       "      <td id=\"T_23a47_row15_col1\" class=\"data row15 col1\" >3</td>\n",
       "      <td id=\"T_23a47_row15_col2\" class=\"data row15 col2\" >4</td>\n",
       "    </tr>\n",
       "    <tr>\n",
       "      <td id=\"T_23a47_row16_col0\" class=\"data row16 col0\" >Katherine</td>\n",
       "      <td id=\"T_23a47_row16_col1\" class=\"data row16 col1\" >4</td>\n",
       "      <td id=\"T_23a47_row16_col2\" class=\"data row16 col2\" >10</td>\n",
       "    </tr>\n",
       "    <tr>\n",
       "      <td id=\"T_23a47_row17_col0\" class=\"data row17 col0\" >Mei</td>\n",
       "      <td id=\"T_23a47_row17_col1\" class=\"data row17 col1\" >3</td>\n",
       "      <td id=\"T_23a47_row17_col2\" class=\"data row17 col2\" >2</td>\n",
       "    </tr>\n",
       "    <tr>\n",
       "      <td id=\"T_23a47_row18_col0\" class=\"data row18 col0\" >Rohan</td>\n",
       "      <td id=\"T_23a47_row18_col1\" class=\"data row18 col1\" >3</td>\n",
       "      <td id=\"T_23a47_row18_col2\" class=\"data row18 col2\" >2</td>\n",
       "    </tr>\n",
       "    <tr>\n",
       "      <td id=\"T_23a47_row19_col0\" class=\"data row19 col0\" >Noah</td>\n",
       "      <td id=\"T_23a47_row19_col1\" class=\"data row19 col1\" >2</td>\n",
       "      <td id=\"T_23a47_row19_col2\" class=\"data row19 col2\" >2</td>\n",
       "    </tr>\n",
       "    <tr>\n",
       "      <td id=\"T_23a47_row20_col0\" class=\"data row20 col0\" >Sarah</td>\n",
       "      <td id=\"T_23a47_row20_col1\" class=\"data row20 col1\" >3</td>\n",
       "      <td id=\"T_23a47_row20_col2\" class=\"data row20 col2\" >2</td>\n",
       "    </tr>\n",
       "    <tr>\n",
       "      <td id=\"T_23a47_row21_col0\" class=\"data row21 col0\" >Grace</td>\n",
       "      <td id=\"T_23a47_row21_col1\" class=\"data row21 col1\" >4</td>\n",
       "      <td id=\"T_23a47_row21_col2\" class=\"data row21 col2\" >3</td>\n",
       "    </tr>\n",
       "    <tr>\n",
       "      <td id=\"T_23a47_row22_col0\" class=\"data row22 col0\" >Ellen</td>\n",
       "      <td id=\"T_23a47_row22_col1\" class=\"data row22 col1\" >4</td>\n",
       "      <td id=\"T_23a47_row22_col2\" class=\"data row22 col2\" >5</td>\n",
       "    </tr>\n",
       "  </tbody>\n",
       "</table>\n"
      ],
      "text/plain": [
       "<pandas.io.formats.style.Styler at 0x2b011375430>"
      ]
     },
     "execution_count": 65,
     "metadata": {},
     "output_type": "execute_result"
    }
   ],
   "source": [
    "df = pd.DataFrame(staff)\n",
    "df.style.hide_index()"
   ]
  },
  {
   "cell_type": "code",
   "execution_count": 66,
   "id": "58a5e3f1",
   "metadata": {},
   "outputs": [
    {
     "data": {
      "text/html": [
       "<style type=\"text/css\">\n",
       "</style>\n",
       "<table id=\"T_c98fc_\">\n",
       "  <thead>\n",
       "    <tr>\n",
       "      <th class=\"col_heading level0 col0\" >Year</th>\n",
       "      <th class=\"col_heading level0 col1\" >Semesters on staff average</th>\n",
       "    </tr>\n",
       "  </thead>\n",
       "  <tbody>\n",
       "    <tr>\n",
       "      <td id=\"T_c98fc_row0_col0\" class=\"data row0 col0\" >2</td>\n",
       "      <td id=\"T_c98fc_row0_col1\" class=\"data row0 col1\" >2.5</td>\n",
       "    </tr>\n",
       "    <tr>\n",
       "      <td id=\"T_c98fc_row1_col0\" class=\"data row1 col0\" >3</td>\n",
       "      <td id=\"T_c98fc_row1_col1\" class=\"data row1 col1\" >2.8</td>\n",
       "    </tr>\n",
       "    <tr>\n",
       "      <td id=\"T_c98fc_row2_col0\" class=\"data row2 col0\" >4</td>\n",
       "      <td id=\"T_c98fc_row2_col1\" class=\"data row2 col1\" >6.0</td>\n",
       "    </tr>\n",
       "  </tbody>\n",
       "</table>\n"
      ],
      "text/plain": [
       "<pandas.io.formats.style.Styler at 0x2b0113a3820>"
      ]
     },
     "execution_count": 66,
     "metadata": {},
     "output_type": "execute_result"
    }
   ],
   "source": [
    "df_ave = df.groupby(\"Year\", as_index=False).mean()\n",
    "df_ave = df_ave.rename(columns={\"Semesters on staff\": \"Semesters on staff average\"})\n",
    "df_ave.style.format({\"Semesters on staff average\": '{:,.1f}'.format}).hide_index()"
   ]
  },
  {
   "cell_type": "code",
   "execution_count": 67,
   "id": "d4c99a71",
   "metadata": {},
   "outputs": [
    {
     "data": {
      "text/html": [
       "<style type=\"text/css\">\n",
       "</style>\n",
       "<table id=\"T_d70e1_\">\n",
       "  <thead>\n",
       "    <tr>\n",
       "      <th class=\"col_heading level0 col0\" >Name</th>\n",
       "      <th class=\"col_heading level0 col1\" >Year</th>\n",
       "    </tr>\n",
       "  </thead>\n",
       "  <tbody>\n",
       "    <tr>\n",
       "      <td id=\"T_d70e1_row0_col0\" class=\"data row0 col0\" >Ashwin</td>\n",
       "      <td id=\"T_d70e1_row0_col1\" class=\"data row0 col1\" >Sophomore</td>\n",
       "    </tr>\n",
       "    <tr>\n",
       "      <td id=\"T_d70e1_row1_col0\" class=\"data row1 col0\" >Vivrd</td>\n",
       "      <td id=\"T_d70e1_row1_col1\" class=\"data row1 col1\" >Sophomore</td>\n",
       "    </tr>\n",
       "    <tr>\n",
       "      <td id=\"T_d70e1_row2_col0\" class=\"data row2 col0\" >Peter</td>\n",
       "      <td id=\"T_d70e1_row2_col1\" class=\"data row2 col1\" >Sophomore</td>\n",
       "    </tr>\n",
       "    <tr>\n",
       "      <td id=\"T_d70e1_row3_col0\" class=\"data row3 col0\" >Noah</td>\n",
       "      <td id=\"T_d70e1_row3_col1\" class=\"data row3 col1\" >Sophomore</td>\n",
       "    </tr>\n",
       "  </tbody>\n",
       "</table>\n"
      ],
      "text/plain": [
       "<pandas.io.formats.style.Styler at 0x2b0112f43d0>"
      ]
     },
     "execution_count": 67,
     "metadata": {},
     "output_type": "execute_result"
    }
   ],
   "source": [
    "df_soph = df[df['Year']==2].drop([\"Semesters on staff\"], axis=1)\n",
    "df_soph = df_soph.replace(2, \"Sophomore\")\n",
    "df_soph.style.hide_index()"
   ]
  },
  {
   "cell_type": "code",
   "execution_count": 74,
   "id": "a0ff9bc8",
   "metadata": {},
   "outputs": [
    {
     "data": {
      "image/png": "[encoded data removed]",
      "text/plain": [
       "<Figure size 432x288 with 1 Axes>"
      ]
     },
     "metadata": {
      "needs_background": "light"
     },
     "output_type": "display_data"
    }
   ],
   "source": [
    "df_plot = df.plot.scatter(\"Year\", \"Semesters on staff\").grid()\n",
    "df_plot"
   ]
  },
  {
   "cell_type": "code",
   "execution_count": 69,
   "id": "c8cdccc5",
   "metadata": {},
   "outputs": [
    {
     "data": {
      "text/html": [
       "<div>\n",
       "<style scoped>\n",
       "    .dataframe tbody tr th:only-of-type {\n",
       "        vertical-align: middle;\n",
       "    }\n",
       "\n",
       "    .dataframe tbody tr th {\n",
       "        vertical-align: top;\n",
       "    }\n",
       "\n",
       "    .dataframe thead th {\n",
       "        text-align: right;\n",
       "    }\n",
       "</style>\n",
       "<table border=\"1\" class=\"dataframe\">\n",
       "  <thead>\n",
       "    <tr style=\"text-align: right;\">\n",
       "      <th>Year</th>\n",
       "      <th>2</th>\n",
       "      <th>3</th>\n",
       "      <th>4</th>\n",
       "    </tr>\n",
       "    <tr>\n",
       "      <th>Semesters on staff</th>\n",
       "      <th></th>\n",
       "      <th></th>\n",
       "      <th></th>\n",
       "    </tr>\n",
       "  </thead>\n",
       "  <tbody>\n",
       "    <tr>\n",
       "      <th>2</th>\n",
       "      <td>2</td>\n",
       "      <td>3</td>\n",
       "      <td>0</td>\n",
       "    </tr>\n",
       "    <tr>\n",
       "      <th>3</th>\n",
       "      <td>2</td>\n",
       "      <td>5</td>\n",
       "      <td>2</td>\n",
       "    </tr>\n",
       "    <tr>\n",
       "      <th>4</th>\n",
       "      <td>0</td>\n",
       "      <td>1</td>\n",
       "      <td>1</td>\n",
       "    </tr>\n",
       "    <tr>\n",
       "      <th>5</th>\n",
       "      <td>0</td>\n",
       "      <td>0</td>\n",
       "      <td>2</td>\n",
       "    </tr>\n",
       "    <tr>\n",
       "      <th>7</th>\n",
       "      <td>0</td>\n",
       "      <td>0</td>\n",
       "      <td>3</td>\n",
       "    </tr>\n",
       "    <tr>\n",
       "      <th>9</th>\n",
       "      <td>0</td>\n",
       "      <td>0</td>\n",
       "      <td>1</td>\n",
       "    </tr>\n",
       "    <tr>\n",
       "      <th>10</th>\n",
       "      <td>0</td>\n",
       "      <td>0</td>\n",
       "      <td>1</td>\n",
       "    </tr>\n",
       "  </tbody>\n",
       "</table>\n",
       "</div>"
      ],
      "text/plain": [
       "Year                2  3  4\n",
       "Semesters on staff         \n",
       "2                   2  3  0\n",
       "3                   2  5  2\n",
       "4                   0  1  1\n",
       "5                   0  0  2\n",
       "7                   0  0  3\n",
       "9                   0  0  1\n",
       "10                  0  0  1"
      ]
     },
     "execution_count": 69,
     "metadata": {},
     "output_type": "execute_result"
    }
   ],
   "source": [
    "df_sos = df.pivot_table(index = \"Semesters on staff\", columns= ['Year'], aggfunc='count', values='Year', fill_value= 0)\n",
    "df_sos"
   ]
  }
 ],
 "metadata": {
  "kernelspec": {
   "display_name": "Python 3 (ipykernel)",
   "language": "python",
   "name": "python3"
  },
  "language_info": {
   "codemirror_mode": {
    "name": "ipython",
    "version": 3
   },
   "file_extension": ".py",
   "mimetype": "text/x-python",
   "name": "python",
   "nbconvert_exporter": "python",
   "pygments_lexer": "ipython3",
   "version": "3.9.5"
  }
 },
 "nbformat": 4,
 "nbformat_minor": 5
}
