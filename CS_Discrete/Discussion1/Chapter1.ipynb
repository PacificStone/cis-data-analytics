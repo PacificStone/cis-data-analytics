{
 "cells": [
  {
   "cell_type": "code",
   "execution_count": 21,
   "id": "89b86b59",
   "metadata": {},
   "outputs": [],
   "source": [
    "import itertools\n",
    "import inspect"
   ]
  },
  {
   "cell_type": "code",
   "execution_count": 23,
   "id": "c3e06de0",
   "metadata": {},
   "outputs": [],
   "source": [
    "def nparams(f):\n",
    "    return len(inspect.signature(f).parameters)"
   ]
  },
  {
   "cell_type": "code",
   "execution_count": 24,
   "id": "525fd2e2",
   "metadata": {},
   "outputs": [],
   "source": [
    "def TruthTable(f):\n",
    "    \n",
    "    n=nparams(f)\n",
    "    c_names = inspect.getfullargspec(f)\n",
    "    for j in range(n):      # Column Labels\n",
    "        print(\" {0:6s}\".format(c_names.args[j]), end=\"\")\n",
    "    \n",
    "    print(\"| Result\\n\" + 6*n*\"-\"+\"------\")\n",
    "              \n",
    "    alltuples = itertools.product([True,False],repeat=n)\n",
    "              \n",
    "    for combination in alltuples:\n",
    "              for value in combination:\n",
    "                  print(\" {0:6s}\".format(str(value)), end=\"\")\n",
    "              result = f(*combination)\n",
    "              print(\"| {0:6s}\".format(str(result)))\n",
    "              \n",
    "              "
   ]
  },
  {
   "cell_type": "markdown",
   "id": "d32fe3fa",
   "metadata": {},
   "source": [
    "# Question 1"
   ]
  },
  {
   "cell_type": "code",
   "execution_count": 25,
   "id": "ca67bf13",
   "metadata": {},
   "outputs": [
    {
     "name": "stdout",
     "output_type": "stream",
     "text": [
      " P      Q     | Result\n",
      "------------------\n",
      " True   True  | True  \n",
      " True   False | False \n",
      " False  True  | False \n",
      " False  False | True  \n",
      " P      Q     | Result\n",
      "------------------\n",
      " True   True  | True  \n",
      " True   False | False \n",
      " False  True  | False \n",
      " False  False | True  \n",
      "\n",
      "True\n"
     ]
    }
   ],
   "source": [
    "\n",
    "def f(P, Q): \n",
    "    return ((P and Q) or (not P and not Q))\n",
    "def g(P, Q):\n",
    "    return (P == Q)     # Iff is the same as ==\n",
    "\n",
    "x = TruthTable(f)\n",
    "\n",
    "y = TruthTable(g)\n",
    "\n",
    "if x == y: \n",
    "    print(f\"\\nTrue\")\n"
   ]
  },
  {
   "cell_type": "markdown",
   "id": "d624a8de",
   "metadata": {},
   "source": [
    "# Question 2"
   ]
  },
  {
   "cell_type": "code",
   "execution_count": 26,
   "id": "74cd12a2",
   "metadata": {},
   "outputs": [
    {
     "name": "stdout",
     "output_type": "stream",
     "text": [
      " P      Q     | Result\n",
      "------------------\n",
      " True   True  | True  \n",
      " True   False | False \n",
      " False  True  | False \n",
      " False  False | True  \n",
      " P      Q     | Result\n",
      "------------------\n",
      " True   True  | True  \n",
      " True   False | False \n",
      " False  True  | False \n",
      " False  False | True  \n",
      "\n",
      "True\n"
     ]
    }
   ],
   "source": [
    "def f(P, Q): \n",
    "    return ((not P or Q) and (not Q or P))\n",
    "def g(P, Q):\n",
    "    return (P == Q)     # Iff is the same as ==\n",
    "\n",
    "x = TruthTable(f)\n",
    "\n",
    "y = TruthTable(g)\n",
    "\n",
    "if x == y: \n",
    "    print(f\"\\nTrue\")"
   ]
  },
  {
   "cell_type": "markdown",
   "id": "7ed24b2f",
   "metadata": {},
   "source": [
    "# Question 3"
   ]
  },
  {
   "cell_type": "code",
   "execution_count": 27,
   "id": "7fd67579",
   "metadata": {
    "scrolled": true
   },
   "outputs": [
    {
     "name": "stdout",
     "output_type": "stream",
     "text": [
      " P      Q      R     | Result\n",
      "------------------------\n",
      " True   True   True  | True  \n",
      " True   True   False | True  \n",
      " True   False  True  | True  \n",
      " True   False  False | False \n",
      " False  True   True  | False \n",
      " False  True   False | False \n",
      " False  False  True  | False \n",
      " False  False  False | False \n",
      " P      Q      R     | Result\n",
      "------------------------\n",
      " True   True   True  | True  \n",
      " True   True   False | True  \n",
      " True   False  True  | True  \n",
      " True   False  False | False \n",
      " False  True   True  | False \n",
      " False  True   False | False \n",
      " False  False  True  | False \n",
      " False  False  False | False \n",
      "\n",
      "True\n"
     ]
    }
   ],
   "source": [
    "def f(P, Q, R): \n",
    "    return ((P and Q) or (P and R))\n",
    "\n",
    "def g(P, Q, R):\n",
    "    return (P and (Q or R))     # Iff is the same as ==\n",
    "\n",
    "x = TruthTable(f)\n",
    "\n",
    "y = TruthTable(g)\n",
    "\n",
    "if x == y: \n",
    "    print(f\"\\nTrue\")"
   ]
  },
  {
   "cell_type": "markdown",
   "id": "6fca20ed",
   "metadata": {},
   "source": [
    "# Question 6"
   ]
  },
  {
   "cell_type": "code",
   "execution_count": 28,
   "id": "5554aa05",
   "metadata": {},
   "outputs": [],
   "source": [
    "def TruthTable(f):\n",
    "    \n",
    "    n=nparams(f)\n",
    "    c_names = inspect.getfullargspec(f)\n",
    "    for j in range(n):      # Column Labels\n",
    "        print(\" {0:6s}\".format(c_names.args[j]), end=\"\")\n",
    "    \n",
    "    print(\"| Result\\n\" + 6*n*\"-\"+\"------\")\n",
    "              \n",
    "    alltuples = itertools.product([True,False],repeat=n)\n",
    "              \n",
    "    for combination in alltuples:\n",
    "              for value in combination:\n",
    "                  if value:\n",
    "                        print(\" {0:6s}\".format(\"T\"), end=\"\")\n",
    "                  else:\n",
    "                        print(\" {0:6s}\".format(\"F\"), end=\"\")\n",
    "              result = f(*combination)\n",
    "              if result:\n",
    "                    print(\"| {0:6s}\".format(\"T\"))\n",
    "              else:\n",
    "                    print(\"| {0:6s}\".format(\"F\"))\n",
    "             "
   ]
  },
  {
   "cell_type": "code",
   "execution_count": 29,
   "id": "59ccafc5",
   "metadata": {},
   "outputs": [
    {
     "name": "stdout",
     "output_type": "stream",
     "text": [
      " P      Q      R     | Result\n",
      "------------------------\n",
      " T      T      T     | T     \n",
      " T      T      F     | T     \n",
      " T      F      T     | T     \n",
      " T      F      F     | F     \n",
      " F      T      T     | F     \n",
      " F      T      F     | F     \n",
      " F      F      T     | F     \n",
      " F      F      F     | F     \n"
     ]
    }
   ],
   "source": [
    "def f(P, Q, R): \n",
    "    return ((P and Q) or (P and R))\n",
    "\n",
    "TruthTable(f)"
   ]
  },
  {
   "cell_type": "markdown",
   "id": "eb9da08d",
   "metadata": {},
   "source": [
    "# Question 7"
   ]
  },
  {
   "cell_type": "code",
   "execution_count": 32,
   "id": "4890fd7c",
   "metadata": {},
   "outputs": [],
   "source": [
    "def ifthen(A,B):\n",
    "    if A:\n",
    "        if B:\n",
    "            return True\n",
    "    else: \n",
    "        return False"
   ]
  },
  {
   "cell_type": "code",
   "execution_count": 33,
   "id": "473a5967",
   "metadata": {},
   "outputs": [
    {
     "name": "stdout",
     "output_type": "stream",
     "text": [
      " P      Q     | Result\n",
      "------------------\n",
      " T      T     | T     \n",
      " T      F     | F     \n",
      " F      T     | F     \n",
      " F      F     | F     \n"
     ]
    }
   ],
   "source": [
    "def f(P, Q):\n",
    "    return (ifthen(P,Q) and ifthen(Q,P))\n",
    "TruthTable(f)"
   ]
  },
  {
   "cell_type": "code",
   "execution_count": 36,
   "id": "953c0375",
   "metadata": {},
   "outputs": [
    {
     "name": "stdout",
     "output_type": "stream",
     "text": [
      " P      Q      R      S     | Result\n",
      "------------------------------\n",
      " T      T      T      T     | T     \n",
      " T      T      T      F     | T     \n",
      " T      T      F      T     | T     \n",
      " T      T      F      F     | F     \n",
      " T      F      T      T     | T     \n",
      " T      F      T      F     | T     \n",
      " T      F      F      T     | F     \n",
      " T      F      F      F     | F     \n",
      " F      T      T      T     | T     \n",
      " F      T      T      F     | T     \n",
      " F      T      F      T     | T     \n",
      " F      T      F      F     | F     \n",
      " F      F      T      T     | F     \n",
      " F      F      T      F     | F     \n",
      " F      F      F      T     | F     \n",
      " F      F      F      F     | F     \n"
     ]
    }
   ],
   "source": [
    "def f(P, Q, R, S):\n",
    "    return (ifthen((P or Q),R or (Q and S)))\n",
    "TruthTable(f)"
   ]
  }
 ],
 "metadata": {
  "kernelspec": {
   "display_name": "Python 3 (ipykernel)",
   "language": "python",
   "name": "python3"
  },
  "language_info": {
   "codemirror_mode": {
    "name": "ipython",
    "version": 3
   },
   "file_extension": ".py",
   "mimetype": "text/x-python",
   "name": "python",
   "nbconvert_exporter": "python",
   "pygments_lexer": "ipython3",
   "version": "3.9.7"
  }
 },
 "nbformat": 4,
 "nbformat_minor": 5
}
